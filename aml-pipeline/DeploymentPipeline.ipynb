{
  "cells": [
    {
      "cell_type": "code",
      "source": [
        "%%writefile deployment/deploy.py\r\n",
        "\r\n",
        "from azureml.core import Image, Workspace, Webservice, Model\r\n",
        "from azureml.core.webservice import AciWebservice\r\n",
        "from azureml.core.authentication import ServicePrincipalAuthentication\r\n",
        "import time\r\n",
        "\r\n",
        "def service_principal_auth(tenant_id, sp_id, sp_secret):\r\n",
        "  return ServicePrincipalAuthentication(\r\n",
        "      tenant_id=tenant_id,\r\n",
        "      service_principal_id=sp_id,\r\n",
        "      service_principal_password=sp_secret)\r\n",
        "\r\n",
        "time.sleep(120)\r\n",
        "\r\n",
        "service_principal_clientid = '74809eff-c1cd-4b4d-be93-1485502de2cf'\r\n",
        "service_principal_secret ='-XPEtO1~nKVM92F_1jYEVH_8slf3Mmh16Y'\r\n",
        "      \r\n",
        "ws = Workspace.get(name=\"sparkml\",\r\n",
        "               subscription_id='f3f672c1-6cfc-4f72-92ae-2b1ab1c0cf69',\r\n",
        "               resource_group='sparkdemorg',\r\n",
        "               auth=service_principal_auth('72f988bf-86f1-41af-91ab-2d7cd011db47', service_principal_clientid , service_principal_secret))\r\n",
        "\r\n",
        "# Remove existing services\r\n",
        "for svc in Webservice.list(ws,image_name=\"km-predictor-image\"):\r\n",
        "    svc.delete()\r\n",
        "\r\n",
        "# Get most recent model\r\n",
        "recent_model_version = 0\r\n",
        "recent_model = None\r\n",
        "for m in Model.list(ws, name='km-predictor-model'):\r\n",
        "    if recent_model_version < m.serialize()['version']:\r\n",
        "        recent_model_version = m.serialize()['version']\r\n",
        "        recent_model = m\r\n",
        "        print(m)\r\n",
        "\r\n",
        "recent_image = None\r\n",
        "while recent_image == None:\r\n",
        "    images = Image.list(ws, image_name='km-predictor-image')\r\n",
        "\r\n",
        "    # Get most recent version of image\r\n",
        "    recent_version = 0\r\n",
        "    recent_image = None\r\n",
        "    for i in images:\r\n",
        "        if recent_model_version == i.serialize()['version'] and i.serialize()['creationState'] == 'Succeeded':\r\n",
        "            recent_image = i\r\n",
        "            print(i)\r\n",
        "    time.sleep(60)\r\n",
        "\r\n",
        "\r\n",
        "# Deploy webservice\r\n",
        "print(\"Deploying web service\")\r\n",
        "webservice_deployment_config = AciWebservice.deploy_configuration()\r\n",
        "webservice = Webservice.deploy_from_image(\r\n",
        "                            workspace=ws, \r\n",
        "                            name=\"km-predictor-service\", \r\n",
        "                            image=recent_image, \r\n",
        "                            deployment_config=webservice_deployment_config)\r\n",
        "\r\n",
        "webservice.wait_for_deployment()"
      ],
      "outputs": [
        {
          "output_type": "stream",
          "name": "stdout",
          "text": [
            "Overwriting deployment/deploy.py\n"
          ]
        }
      ],
      "execution_count": 132,
      "metadata": {
        "gather": {
          "logged": 1626657898088
        }
      }
    },
    {
      "cell_type": "code",
      "source": [
        "import os\r\n",
        "import azureml.core\r\n",
        "from azureml.core import Workspace, Experiment, Datastore\r\n",
        "from azureml.widgets import RunDetails\r\n",
        "from azureml.pipeline.core import Pipeline\r\n",
        "from azureml.pipeline.steps import PythonScriptStep\r\n",
        "from azureml.core.compute import ComputeTarget, AmlCompute\r\n",
        "from azureml.core.compute_target import ComputeTargetException\r\n",
        "\r\n",
        "\r\n",
        "# Check core SDK version number\r\n",
        "print(\"SDK version:\", azureml.core.VERSION)\r\n",
        "\r\n",
        "\r\n",
        "\r\n",
        "aml_compute_target = \"cpu-cluster\"\r\n",
        "try:\r\n",
        "    aml_compute = AmlCompute(ws, aml_compute_target)\r\n",
        "    print(\"found existing compute target.\")\r\n",
        "except ComputeTargetException:\r\n",
        "    print(\"creating new compute target\")\r\n",
        "    \r\n",
        "    provisioning_config = AmlCompute.provisioning_configuration(vm_size = \"STANDARD_D2_V2\",\r\n",
        "                                                                min_nodes = 1, \r\n",
        "                                                                max_nodes = 4)    \r\n",
        "    aml_compute = ComputeTarget.create(ws, aml_compute_target, provisioning_config)\r\n",
        "    aml_compute.wait_for_completion(show_output=True, min_node_count=None, timeout_in_minutes=20)\r\n",
        "    \r\n",
        "print(\"Azure Machine Learning Compute attached\")\r\n"
      ],
      "outputs": [
        {
          "output_type": "stream",
          "name": "stdout",
          "text": [
            "SDK version: 1.31.0\n",
            "found existing compute target.\n",
            "Azure Machine Learning Compute attached\n"
          ]
        }
      ],
      "execution_count": 133,
      "metadata": {
        "collapsed": true,
        "jupyter": {
          "source_hidden": false,
          "outputs_hidden": false
        },
        "nteract": {
          "transient": {
            "deleting": false
          }
        },
        "gather": {
          "logged": 1626696701446
        }
      }
    },
    {
      "cell_type": "code",
      "source": [
        "ws = Workspace.from_config()\r\n",
        "source_directory = './deployment'\r\n",
        "step1 = PythonScriptStep(name=\"deploy_step\",\r\n",
        "                         script_name=\"deploy.py\", \r\n",
        "                         compute_target=aml_compute, \r\n",
        "                         source_directory=source_directory,\r\n",
        "                         allow_reuse=False)\r\n",
        "pipeline1 = Pipeline(workspace=ws, steps=[step1])\r\n",
        "\r\n",
        "pipeline_run = Experiment(ws, 'deployment-exp').submit(pipeline1, regenerate_outputs=False)\r\n",
        "\r\n",
        "published_pipeline1 = pipeline_run.publish_pipeline(\r\n",
        "     name=\"My_Published_Pipeline\",\r\n",
        "     description=\"My Published Pipeline Description\",\r\n",
        "     version=\"1.0\")\r\n",
        "\r\n",
        "published_pipeline1"
      ],
      "outputs": [
        {
          "output_type": "stream",
          "name": "stderr",
          "text": [
            "'enabled' is deprecated. Please use the azureml.core.runconfig.DockerConfiguration object with the 'use_docker' param instead.\n"
          ]
        },
        {
          "output_type": "stream",
          "name": "stdout",
          "text": [
            "Created step deploy_step [7c5c104f][2edf8af9-25bc-404b-a18e-c15becf0c9e5], (This step will run and generate new outputs)\n",
            "Submitted PipelineRun 2f1c966a-a4af-4f5b-9574-ac5506882f45\n",
            "Link to Azure Machine Learning Portal: https://ml.azure.com/runs/2f1c966a-a4af-4f5b-9574-ac5506882f45?wsid=/subscriptions/f3f672c1-6cfc-4f72-92ae-2b1ab1c0cf69/resourcegroups/sparkdemorg/workspaces/sparkml&tid=72f988bf-86f1-41af-91ab-2d7cd011db47\n"
          ]
        },
        {
          "output_type": "execute_result",
          "execution_count": 134,
          "data": {
            "text/plain": "Pipeline(Name: My_Published_Pipeline,\nId: bb6d8fd2-f82e-4d4f-815c-ac0c85122796,\nStatus: Active,\nEndpoint: https://eastus.api.azureml.ms/pipelines/v1.0/subscriptions/f3f672c1-6cfc-4f72-92ae-2b1ab1c0cf69/resourceGroups/sparkdemorg/providers/Microsoft.MachineLearningServices/workspaces/sparkml/PipelineRuns/PipelineSubmit/bb6d8fd2-f82e-4d4f-815c-ac0c85122796)",
            "text/html": "<table style=\"width:100%\"><tr><th>Name</th><th>Id</th><th>Status</th><th>Endpoint</th></tr><tr><td>My_Published_Pipeline</td><td><a href=\"https://ml.azure.com/pipelines/bb6d8fd2-f82e-4d4f-815c-ac0c85122796?wsid=/subscriptions/f3f672c1-6cfc-4f72-92ae-2b1ab1c0cf69/resourcegroups/sparkdemorg/workspaces/sparkml\" target=\"_blank\" rel=\"noopener\">bb6d8fd2-f82e-4d4f-815c-ac0c85122796</a></td><td>Active</td><td><a href=\"https://eastus.api.azureml.ms/pipelines/v1.0/subscriptions/f3f672c1-6cfc-4f72-92ae-2b1ab1c0cf69/resourceGroups/sparkdemorg/providers/Microsoft.MachineLearningServices/workspaces/sparkml/PipelineRuns/PipelineSubmit/bb6d8fd2-f82e-4d4f-815c-ac0c85122796\" target=\"_blank\" rel=\"noopener\">REST Endpoint</a></td></tr></table>"
          },
          "metadata": {}
        }
      ],
      "execution_count": 134,
      "metadata": {
        "collapsed": true,
        "jupyter": {
          "source_hidden": false,
          "outputs_hidden": false
        },
        "nteract": {
          "transient": {
            "deleting": false
          }
        },
        "gather": {
          "logged": 1626696711441
        }
      }
    },
    {
      "cell_type": "code",
      "source": [],
      "outputs": [],
      "execution_count": null,
      "metadata": {
        "collapsed": true,
        "jupyter": {
          "source_hidden": false,
          "outputs_hidden": false
        },
        "nteract": {
          "transient": {
            "deleting": false
          }
        }
      }
    }
  ],
  "metadata": {
    "kernelspec": {
      "name": "python3-azureml",
      "language": "python",
      "display_name": "Python 3.6 - AzureML"
    },
    "language_info": {
      "name": "python",
      "version": "3.6.9",
      "mimetype": "text/x-python",
      "codemirror_mode": {
        "name": "ipython",
        "version": 3
      },
      "pygments_lexer": "ipython3",
      "nbconvert_exporter": "python",
      "file_extension": ".py"
    },
    "kernel_info": {
      "name": "python3-azureml"
    },
    "microsoft": {
      "host": {
        "AzureML": {
          "notebookHasBeenCompleted": true
        }
      }
    },
    "nteract": {
      "version": "nteract-front-end@1.0.0"
    }
  },
  "nbformat": 4,
  "nbformat_minor": 2
}